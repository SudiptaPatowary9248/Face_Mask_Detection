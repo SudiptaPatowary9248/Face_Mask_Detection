{
  "nbformat": 4,
  "nbformat_minor": 0,
  "metadata": {
    "colab": {
      "name": "DPhi_Face_Mask_detection.ipynb",
      "provenance": [],
      "collapsed_sections": []
    },
    "kernelspec": {
      "name": "python3",
      "display_name": "Python 3"
    },
    "accelerator": "GPU"
  },
  "cells": [
    {
      "cell_type": "code",
      "metadata": {
        "id": "UT4YkPaEUlkq"
      },
      "source": [
        "import pandas as pd\n",
        "import numpy as np\n",
        "import matplotlib.pyplot as plt"
      ],
      "execution_count": 1,
      "outputs": []
    },
    {
      "cell_type": "code",
      "metadata": {
        "id": "37QkDBuRVH8G"
      },
      "source": [
        "import os\n",
        "import cv2\n",
        "\n",
        "import tensorflow as tf\n",
        "from tensorflow.keras.optimizers import SGD\n",
        "from tensorflow.keras.models import Sequential\n",
        "from tensorflow.keras.applications import VGG16\n",
        "from tensorflow.keras.applications import MobileNetV2\n",
        "from tensorflow.keras.preprocessing.image import ImageDataGenerator\n",
        "\n",
        "from tensorflow.keras.layers import Input\n",
        "from tensorflow.keras.layers import Dense\n",
        "from tensorflow.keras.layers import Dropout\n",
        "from tensorflow.keras.layers import GlobalAveragePooling2D"
      ],
      "execution_count": 25,
      "outputs": []
    },
    {
      "cell_type": "code",
      "metadata": {
        "id": "C238TxtEy6c8",
        "outputId": "d43e4e09-5626-4d86-c226-3fea94f14fbf",
        "colab": {
          "base_uri": "https://localhost:8080/"
        }
      },
      "source": [
        "from google_drive_downloader import GoogleDriveDownloader as gdd\n",
        "gdd.download_file_from_google_drive(file_id='1_W2gFFZmy6ZyC8TPlxB49eDFswdBsQqo',\n",
        "                                    dest_path='content/face_mask_detection.zip',\n",
        "                                    unzip=True)"
      ],
      "execution_count": 3,
      "outputs": [
        {
          "output_type": "stream",
          "text": [
            "Downloading 1_W2gFFZmy6ZyC8TPlxB49eDFswdBsQqo into content/face_mask_detection.zip... Done.\n",
            "Unzipping...Done.\n"
          ],
          "name": "stdout"
        }
      ]
    },
    {
      "cell_type": "code",
      "metadata": {
        "id": "zY4ShmL3VIow",
        "outputId": "2095246d-c30a-48c3-c283-920a05cd5732",
        "colab": {
          "base_uri": "https://localhost:8080/",
          "height": 110
        }
      },
      "source": [
        "train=pd.read_csv('/content/content/face_mask_detection/Training_set_face_mask.csv')\n",
        "train.head(2)"
      ],
      "execution_count": 4,
      "outputs": [
        {
          "output_type": "execute_result",
          "data": {
            "text/html": [
              "<div>\n",
              "<style scoped>\n",
              "    .dataframe tbody tr th:only-of-type {\n",
              "        vertical-align: middle;\n",
              "    }\n",
              "\n",
              "    .dataframe tbody tr th {\n",
              "        vertical-align: top;\n",
              "    }\n",
              "\n",
              "    .dataframe thead th {\n",
              "        text-align: right;\n",
              "    }\n",
              "</style>\n",
              "<table border=\"1\" class=\"dataframe\">\n",
              "  <thead>\n",
              "    <tr style=\"text-align: right;\">\n",
              "      <th></th>\n",
              "      <th>filename</th>\n",
              "      <th>label</th>\n",
              "    </tr>\n",
              "  </thead>\n",
              "  <tbody>\n",
              "    <tr>\n",
              "      <th>0</th>\n",
              "      <td>Image_1.jpg</td>\n",
              "      <td>without_mask</td>\n",
              "    </tr>\n",
              "    <tr>\n",
              "      <th>1</th>\n",
              "      <td>Image_2.jpg</td>\n",
              "      <td>without_mask</td>\n",
              "    </tr>\n",
              "  </tbody>\n",
              "</table>\n",
              "</div>"
            ],
            "text/plain": [
              "      filename         label\n",
              "0  Image_1.jpg  without_mask\n",
              "1  Image_2.jpg  without_mask"
            ]
          },
          "metadata": {
            "tags": []
          },
          "execution_count": 4
        }
      ]
    },
    {
      "cell_type": "code",
      "metadata": {
        "id": "dcSWAj9xzXY7"
      },
      "source": [
        "file_paths = [[fname, '/content/content/face_mask_detection/train/' + fname] for fname in train['filename']]"
      ],
      "execution_count": 5,
      "outputs": []
    },
    {
      "cell_type": "code",
      "metadata": {
        "id": "V8EadU8HzbDI",
        "outputId": "0e7fcc9d-739d-4a66-8ba2-4b588e315ee6",
        "colab": {
          "base_uri": "https://localhost:8080/"
        }
      },
      "source": [
        "# Confirm if number of images is same as number of labels given\n",
        "if len(train) == len(file_paths):\n",
        "    print('Number of labels i.e. ', len(train), 'matches the number of filenames i.e. ', len(file_paths))\n",
        "else:\n",
        "    print('Number of labels does not match the number of filenames')\n"
      ],
      "execution_count": 6,
      "outputs": [
        {
          "output_type": "stream",
          "text": [
            "Number of labels i.e.  11264 matches the number of filenames i.e.  11264\n"
          ],
          "name": "stdout"
        }
      ]
    },
    {
      "cell_type": "code",
      "metadata": {
        "id": "qXkYBq3uz0RY",
        "outputId": "49a3ef15-5c64-4c00-d4c9-a07df9d0c922",
        "colab": {
          "base_uri": "https://localhost:8080/",
          "height": 202
        }
      },
      "source": [
        "images = pd.DataFrame(file_paths, columns=['filename', 'filepaths'])\n",
        "images.head()"
      ],
      "execution_count": 7,
      "outputs": [
        {
          "output_type": "execute_result",
          "data": {
            "text/html": [
              "<div>\n",
              "<style scoped>\n",
              "    .dataframe tbody tr th:only-of-type {\n",
              "        vertical-align: middle;\n",
              "    }\n",
              "\n",
              "    .dataframe tbody tr th {\n",
              "        vertical-align: top;\n",
              "    }\n",
              "\n",
              "    .dataframe thead th {\n",
              "        text-align: right;\n",
              "    }\n",
              "</style>\n",
              "<table border=\"1\" class=\"dataframe\">\n",
              "  <thead>\n",
              "    <tr style=\"text-align: right;\">\n",
              "      <th></th>\n",
              "      <th>filename</th>\n",
              "      <th>filepaths</th>\n",
              "    </tr>\n",
              "  </thead>\n",
              "  <tbody>\n",
              "    <tr>\n",
              "      <th>0</th>\n",
              "      <td>Image_1.jpg</td>\n",
              "      <td>/content/content/face_mask_detection/train/Ima...</td>\n",
              "    </tr>\n",
              "    <tr>\n",
              "      <th>1</th>\n",
              "      <td>Image_2.jpg</td>\n",
              "      <td>/content/content/face_mask_detection/train/Ima...</td>\n",
              "    </tr>\n",
              "    <tr>\n",
              "      <th>2</th>\n",
              "      <td>Image_3.jpg</td>\n",
              "      <td>/content/content/face_mask_detection/train/Ima...</td>\n",
              "    </tr>\n",
              "    <tr>\n",
              "      <th>3</th>\n",
              "      <td>Image_4.jpg</td>\n",
              "      <td>/content/content/face_mask_detection/train/Ima...</td>\n",
              "    </tr>\n",
              "    <tr>\n",
              "      <th>4</th>\n",
              "      <td>Image_5.jpg</td>\n",
              "      <td>/content/content/face_mask_detection/train/Ima...</td>\n",
              "    </tr>\n",
              "  </tbody>\n",
              "</table>\n",
              "</div>"
            ],
            "text/plain": [
              "      filename                                          filepaths\n",
              "0  Image_1.jpg  /content/content/face_mask_detection/train/Ima...\n",
              "1  Image_2.jpg  /content/content/face_mask_detection/train/Ima...\n",
              "2  Image_3.jpg  /content/content/face_mask_detection/train/Ima...\n",
              "3  Image_4.jpg  /content/content/face_mask_detection/train/Ima...\n",
              "4  Image_5.jpg  /content/content/face_mask_detection/train/Ima..."
            ]
          },
          "metadata": {
            "tags": []
          },
          "execution_count": 7
        }
      ]
    },
    {
      "cell_type": "code",
      "metadata": {
        "id": "5-aeXNYuz2EE",
        "outputId": "8e48d612-553f-4cfd-e81e-ef630b7d701c",
        "colab": {
          "base_uri": "https://localhost:8080/",
          "height": 202
        }
      },
      "source": [
        "train = pd.merge(images, train, how = 'inner', on = 'filename')\n",
        "train.head()"
      ],
      "execution_count": 8,
      "outputs": [
        {
          "output_type": "execute_result",
          "data": {
            "text/html": [
              "<div>\n",
              "<style scoped>\n",
              "    .dataframe tbody tr th:only-of-type {\n",
              "        vertical-align: middle;\n",
              "    }\n",
              "\n",
              "    .dataframe tbody tr th {\n",
              "        vertical-align: top;\n",
              "    }\n",
              "\n",
              "    .dataframe thead th {\n",
              "        text-align: right;\n",
              "    }\n",
              "</style>\n",
              "<table border=\"1\" class=\"dataframe\">\n",
              "  <thead>\n",
              "    <tr style=\"text-align: right;\">\n",
              "      <th></th>\n",
              "      <th>filename</th>\n",
              "      <th>filepaths</th>\n",
              "      <th>label</th>\n",
              "    </tr>\n",
              "  </thead>\n",
              "  <tbody>\n",
              "    <tr>\n",
              "      <th>0</th>\n",
              "      <td>Image_1.jpg</td>\n",
              "      <td>/content/content/face_mask_detection/train/Ima...</td>\n",
              "      <td>without_mask</td>\n",
              "    </tr>\n",
              "    <tr>\n",
              "      <th>1</th>\n",
              "      <td>Image_2.jpg</td>\n",
              "      <td>/content/content/face_mask_detection/train/Ima...</td>\n",
              "      <td>without_mask</td>\n",
              "    </tr>\n",
              "    <tr>\n",
              "      <th>2</th>\n",
              "      <td>Image_3.jpg</td>\n",
              "      <td>/content/content/face_mask_detection/train/Ima...</td>\n",
              "      <td>without_mask</td>\n",
              "    </tr>\n",
              "    <tr>\n",
              "      <th>3</th>\n",
              "      <td>Image_4.jpg</td>\n",
              "      <td>/content/content/face_mask_detection/train/Ima...</td>\n",
              "      <td>without_mask</td>\n",
              "    </tr>\n",
              "    <tr>\n",
              "      <th>4</th>\n",
              "      <td>Image_5.jpg</td>\n",
              "      <td>/content/content/face_mask_detection/train/Ima...</td>\n",
              "      <td>without_mask</td>\n",
              "    </tr>\n",
              "  </tbody>\n",
              "</table>\n",
              "</div>"
            ],
            "text/plain": [
              "      filename                                          filepaths         label\n",
              "0  Image_1.jpg  /content/content/face_mask_detection/train/Ima...  without_mask\n",
              "1  Image_2.jpg  /content/content/face_mask_detection/train/Ima...  without_mask\n",
              "2  Image_3.jpg  /content/content/face_mask_detection/train/Ima...  without_mask\n",
              "3  Image_4.jpg  /content/content/face_mask_detection/train/Ima...  without_mask\n",
              "4  Image_5.jpg  /content/content/face_mask_detection/train/Ima...  without_mask"
            ]
          },
          "metadata": {
            "tags": []
          },
          "execution_count": 8
        }
      ]
    },
    {
      "cell_type": "code",
      "metadata": {
        "id": "1AwHDCc9VN5t"
      },
      "source": [
        "data=[]\n",
        "labels=[]\n",
        "for i in range(len(train)):\n",
        "  img_array=cv2.imread(train[\"filepaths\"][i])\n",
        "  #img_array = tf.cast(img_array, tf.float32)\n",
        "  #img_array = tf.image.convert_image_dtype(img_array, tf.float32)\n",
        "  data.append(img_array)\n",
        "  if train[\"label\"][i]=='without_mask':\n",
        "    labels.append(0)\n",
        "  else:\n",
        "    labels.append(1)"
      ],
      "execution_count": 9,
      "outputs": []
    },
    {
      "cell_type": "code",
      "metadata": {
        "id": "ioTF124BVPy4",
        "outputId": "abb513f7-e8de-4b7d-c76f-a0e665e88cbc",
        "colab": {
          "base_uri": "https://localhost:8080/",
          "height": 124
        }
      },
      "source": [
        "from google.colab.patches import cv2_imshow\n",
        "cv2_imshow(data[0])"
      ],
      "execution_count": 10,
      "outputs": [
        {
          "output_type": "display_data",
          "data": {
            "image/png": "[encoded data removed]",
            "text/plain": [
              "<PIL.Image.Image image mode=RGB size=107x107 at 0x7FE85B435470>"
            ]
          },
          "metadata": {
            "tags": []
          }
        }
      ]
    },
    {
      "cell_type": "markdown",
      "metadata": {
        "id": "_et8VygV0P5i"
      },
      "source": [
        "Datasets and images have been loaded to be used in model building"
      ]
    },
    {
      "cell_type": "code",
      "metadata": {
        "id": "IQTjGgQHMMhA"
      },
      "source": [
        "for i in range(len(data)):\n",
        "  data[i]=cv2.resize(data[i],(128,128))"
      ],
      "execution_count": 16,
      "outputs": []
    },
    {
      "cell_type": "code",
      "metadata": {
        "id": "Fack9bYgM1GD"
      },
      "source": [
        "from sklearn.model_selection import train_test_split"
      ],
      "execution_count": 26,
      "outputs": []
    },
    {
      "cell_type": "code",
      "metadata": {
        "id": "XY0oNgT3OX4-"
      },
      "source": [
        "X_train, X_test, y_train, y_test=train_test_split(np.array(data),np.array(labels), random_state=42,stratify=np.array(labels))"
      ],
      "execution_count": 27,
      "outputs": []
    },
    {
      "cell_type": "code",
      "metadata": {
        "id": "UxZKw_x1OoBU",
        "outputId": "23587313-9d80-4de4-96d2-b3dc53099439",
        "colab": {
          "base_uri": "https://localhost:8080/"
        }
      },
      "source": [
        "image_size = 128\n",
        "IMG_SHAPE = (image_size, image_size, 3)\n",
        "mbv2 = MobileNetV2(input_shape=IMG_SHAPE, weights='imagenet', include_top=False)\n",
        "mbv2.trainable=False"
      ],
      "execution_count": 31,
      "outputs": [
        {
          "output_type": "stream",
          "text": [
            "Downloading data from https://storage.googleapis.com/tensorflow/keras-applications/mobilenet_v2/mobilenet_v2_weights_tf_dim_ordering_tf_kernels_1.0_128_no_top.h5\n",
            "9412608/9406464 [==============================] - 0s 0us/step\n"
          ],
          "name": "stdout"
        }
      ]
    },
    {
      "cell_type": "code",
      "metadata": {
        "id": "rnezyFJfPrOq"
      },
      "source": [
        "mbv2_model=Sequential()"
      ],
      "execution_count": 32,
      "outputs": []
    },
    {
      "cell_type": "code",
      "metadata": {
        "id": "a_Y8WScuP1Xq"
      },
      "source": [
        "mbv2_model.add(mbv2)"
      ],
      "execution_count": 33,
      "outputs": []
    },
    {
      "cell_type": "code",
      "metadata": {
        "id": "uswclilJP5n0"
      },
      "source": [
        "mbv2_model.add(GlobalAveragePooling2D())\n",
        "mbv2_model.add(Dense(2048, activation='relu'))\n",
        "mbv2_model.add(Dropout(0.6))\n",
        "mbv2_model.add(Dense(1024, activation='relu'))\n",
        "mbv2_model.add(Dropout(0.5))\n",
        "mbv2_model.add(Dense(512, activation='relu'))\n",
        "mbv2_model.add(Dropout(0.3))\n",
        "mbv2_model.add(Dense(1024, activation='relu'))\n",
        "mbv2_model.add(Dropout(0.5))\n",
        "mbv2_model.add(Dense(1, activation='sigmoid'))"
      ],
      "execution_count": 34,
      "outputs": []
    },
    {
      "cell_type": "code",
      "metadata": {
        "id": "w9fDG8GWQdZS"
      },
      "source": [
        "# optimizer\n",
        "sgd = SGD(lr=0.025)"
      ],
      "execution_count": 35,
      "outputs": []
    },
    {
      "cell_type": "code",
      "metadata": {
        "id": "XzDZeE7sQjGz"
      },
      "source": [
        "mbv2_model.compile(optimizer=sgd, loss='binary_crossentropy', metrics=['accuracy'])"
      ],
      "execution_count": 36,
      "outputs": []
    },
    {
      "cell_type": "code",
      "metadata": {
        "id": "lZbYGFQVQpn6",
        "outputId": "4bb4ea35-9222-4e27-82c2-104a8a143f35",
        "colab": {
          "base_uri": "https://localhost:8080/"
        }
      },
      "source": [
        "mbv2_model.fit(X_train,y_train, epochs=30, verbose=1, validation_split=0.25)"
      ],
      "execution_count": 37,
      "outputs": [
        {
          "output_type": "stream",
          "text": [
            "Epoch 1/30\n",
            "197/198 [============================>.] - ETA: 0s - loss: 0.4286 - accuracy: 0.8073WARNING:tensorflow:Callbacks method `on_test_batch_end` is slow compared to the batch time (batch time: 0.0047s vs `on_test_batch_end` time: 0.0071s). Check your callbacks.\n",
            "198/198 [==============================] - 4s 21ms/step - loss: 0.4279 - accuracy: 0.8073 - val_loss: 0.3525 - val_accuracy: 0.8750\n",
            "Epoch 2/30\n",
            "198/198 [==============================] - 3s 17ms/step - loss: 0.2947 - accuracy: 0.8908 - val_loss: 0.2309 - val_accuracy: 0.9100\n",
            "Epoch 3/30\n",
            "198/198 [==============================] - 3s 17ms/step - loss: 0.2606 - accuracy: 0.9010 - val_loss: 0.2115 - val_accuracy: 0.9171\n",
            "Epoch 4/30\n",
            "198/198 [==============================] - 3s 17ms/step - loss: 0.2373 - accuracy: 0.9110 - val_loss: 0.2023 - val_accuracy: 0.9233\n",
            "Epoch 5/30\n",
            "198/198 [==============================] - 3s 17ms/step - loss: 0.2216 - accuracy: 0.9176 - val_loss: 0.2009 - val_accuracy: 0.9238\n",
            "Epoch 6/30\n",
            "198/198 [==============================] - 3s 17ms/step - loss: 0.2155 - accuracy: 0.9175 - val_loss: 0.1898 - val_accuracy: 0.9276\n",
            "Epoch 7/30\n",
            "198/198 [==============================] - 3s 17ms/step - loss: 0.2057 - accuracy: 0.9216 - val_loss: 0.1920 - val_accuracy: 0.9271\n",
            "Epoch 8/30\n",
            "198/198 [==============================] - 3s 17ms/step - loss: 0.2057 - accuracy: 0.9212 - val_loss: 0.1972 - val_accuracy: 0.9238\n",
            "Epoch 9/30\n",
            "198/198 [==============================] - 3s 17ms/step - loss: 0.2012 - accuracy: 0.9252 - val_loss: 0.1822 - val_accuracy: 0.9266\n",
            "Epoch 10/30\n",
            "198/198 [==============================] - 3s 17ms/step - loss: 0.1880 - accuracy: 0.9293 - val_loss: 0.1760 - val_accuracy: 0.9351\n",
            "Epoch 11/30\n",
            "198/198 [==============================] - 3s 18ms/step - loss: 0.1891 - accuracy: 0.9283 - val_loss: 0.1922 - val_accuracy: 0.9252\n",
            "Epoch 12/30\n",
            "198/198 [==============================] - 3s 18ms/step - loss: 0.1831 - accuracy: 0.9310 - val_loss: 0.1730 - val_accuracy: 0.9356\n",
            "Epoch 13/30\n",
            "198/198 [==============================] - 3s 18ms/step - loss: 0.1814 - accuracy: 0.9306 - val_loss: 0.1714 - val_accuracy: 0.9351\n",
            "Epoch 14/30\n",
            "198/198 [==============================] - 3s 17ms/step - loss: 0.1794 - accuracy: 0.9293 - val_loss: 0.1687 - val_accuracy: 0.9342\n",
            "Epoch 15/30\n",
            "198/198 [==============================] - 3s 18ms/step - loss: 0.1707 - accuracy: 0.9366 - val_loss: 0.1697 - val_accuracy: 0.9375\n",
            "Epoch 16/30\n",
            "198/198 [==============================] - 3s 18ms/step - loss: 0.1671 - accuracy: 0.9351 - val_loss: 0.1684 - val_accuracy: 0.9351\n",
            "Epoch 17/30\n",
            "198/198 [==============================] - 3s 17ms/step - loss: 0.1722 - accuracy: 0.9336 - val_loss: 0.1700 - val_accuracy: 0.9394\n",
            "Epoch 18/30\n",
            "198/198 [==============================] - 3s 18ms/step - loss: 0.1665 - accuracy: 0.9350 - val_loss: 0.1710 - val_accuracy: 0.9318\n",
            "Epoch 19/30\n",
            "198/198 [==============================] - 3s 18ms/step - loss: 0.1625 - accuracy: 0.9391 - val_loss: 0.1665 - val_accuracy: 0.9370\n",
            "Epoch 20/30\n",
            "198/198 [==============================] - 3s 18ms/step - loss: 0.1568 - accuracy: 0.9381 - val_loss: 0.1730 - val_accuracy: 0.9332\n",
            "Epoch 21/30\n",
            "198/198 [==============================] - 4s 18ms/step - loss: 0.1575 - accuracy: 0.9378 - val_loss: 0.1664 - val_accuracy: 0.9418\n",
            "Epoch 22/30\n",
            "198/198 [==============================] - 4s 18ms/step - loss: 0.1607 - accuracy: 0.9370 - val_loss: 0.1601 - val_accuracy: 0.9394\n",
            "Epoch 23/30\n",
            "198/198 [==============================] - 4s 18ms/step - loss: 0.1569 - accuracy: 0.9388 - val_loss: 0.1622 - val_accuracy: 0.9342\n",
            "Epoch 24/30\n",
            "198/198 [==============================] - 4s 18ms/step - loss: 0.1489 - accuracy: 0.9411 - val_loss: 0.1603 - val_accuracy: 0.9375\n",
            "Epoch 25/30\n",
            "198/198 [==============================] - 4s 18ms/step - loss: 0.1439 - accuracy: 0.9459 - val_loss: 0.1707 - val_accuracy: 0.9332\n",
            "Epoch 26/30\n",
            "198/198 [==============================] - 4s 18ms/step - loss: 0.1436 - accuracy: 0.9457 - val_loss: 0.1818 - val_accuracy: 0.9318\n",
            "Epoch 27/30\n",
            "198/198 [==============================] - 4s 18ms/step - loss: 0.1460 - accuracy: 0.9426 - val_loss: 0.1562 - val_accuracy: 0.9413\n",
            "Epoch 28/30\n",
            "198/198 [==============================] - 4s 18ms/step - loss: 0.1451 - accuracy: 0.9437 - val_loss: 0.1535 - val_accuracy: 0.9451\n",
            "Epoch 29/30\n",
            "198/198 [==============================] - 4s 18ms/step - loss: 0.1414 - accuracy: 0.9452 - val_loss: 0.1762 - val_accuracy: 0.9342\n",
            "Epoch 30/30\n",
            "198/198 [==============================] - 4s 18ms/step - loss: 0.1345 - accuracy: 0.9478 - val_loss: 0.2085 - val_accuracy: 0.9195\n"
          ],
          "name": "stdout"
        },
        {
          "output_type": "execute_result",
          "data": {
            "text/plain": [
              "<tensorflow.python.keras.callbacks.History at 0x7fe7b8314710>"
            ]
          },
          "metadata": {
            "tags": []
          },
          "execution_count": 37
        }
      ]
    },
    {
      "cell_type": "code",
      "metadata": {
        "id": "QBfGMa_6RbXa",
        "outputId": "4788e798-d70a-4c8c-811c-37130458aa15",
        "colab": {
          "base_uri": "https://localhost:8080/"
        }
      },
      "source": [
        "mbv2_model_loss, mbv2_model_acc = mbv2_model.evaluate(X_test,y_test)"
      ],
      "execution_count": 38,
      "outputs": [
        {
          "output_type": "stream",
          "text": [
            " 1/88 [..............................] - ETA: 1s - loss: 0.5560 - accuracy: 0.8438WARNING:tensorflow:Callbacks method `on_test_batch_end` is slow compared to the batch time (batch time: 0.0064s vs `on_test_batch_end` time: 0.0116s). Check your callbacks.\n",
            "88/88 [==============================] - 1s 14ms/step - loss: 0.2309 - accuracy: 0.9197\n"
          ],
          "name": "stdout"
        }
      ]
    },
    {
      "cell_type": "code",
      "metadata": {
        "id": "cdtlP67QRnTy",
        "outputId": "9e48cc72-afa0-4cb6-8af2-e869a0fefa08",
        "colab": {
          "base_uri": "https://localhost:8080/"
        }
      },
      "source": [
        "print('Test accuracy using MobileNetV2 model as the base:', mbv2_model_acc)"
      ],
      "execution_count": 39,
      "outputs": [
        {
          "output_type": "stream",
          "text": [
            "Test accuracy using MobileNetV2 model as the base: 0.9197443127632141\n"
          ],
          "name": "stdout"
        }
      ]
    },
    {
      "cell_type": "code",
      "metadata": {
        "id": "vJFifhHNR2aj"
      },
      "source": [
        "test=pd.read_csv('/content/content/face_mask_detection/Testing_set_face_mask.csv')"
      ],
      "execution_count": 40,
      "outputs": []
    },
    {
      "cell_type": "code",
      "metadata": {
        "id": "L5Dp8N3xSrS8"
      },
      "source": [
        "file_paths = [[fname, '/content/content/face_mask_detection/test/' + fname] for fname in test['filename']]"
      ],
      "execution_count": 41,
      "outputs": []
    },
    {
      "cell_type": "code",
      "metadata": {
        "id": "Q3_pgdbiSytP",
        "outputId": "fc04263b-ae94-4ff6-aeb2-8c8f75029259",
        "colab": {
          "base_uri": "https://localhost:8080/",
          "height": 110
        }
      },
      "source": [
        "images = pd.DataFrame(file_paths, columns=['filename', 'filepaths'])\n",
        "test = pd.merge(images, test, how = 'inner', on = 'filename')\n",
        "test.head(2)"
      ],
      "execution_count": 42,
      "outputs": [
        {
          "output_type": "execute_result",
          "data": {
            "text/html": [
              "<div>\n",
              "<style scoped>\n",
              "    .dataframe tbody tr th:only-of-type {\n",
              "        vertical-align: middle;\n",
              "    }\n",
              "\n",
              "    .dataframe tbody tr th {\n",
              "        vertical-align: top;\n",
              "    }\n",
              "\n",
              "    .dataframe thead th {\n",
              "        text-align: right;\n",
              "    }\n",
              "</style>\n",
              "<table border=\"1\" class=\"dataframe\">\n",
              "  <thead>\n",
              "    <tr style=\"text-align: right;\">\n",
              "      <th></th>\n",
              "      <th>filename</th>\n",
              "      <th>filepaths</th>\n",
              "      <th>label</th>\n",
              "    </tr>\n",
              "  </thead>\n",
              "  <tbody>\n",
              "    <tr>\n",
              "      <th>0</th>\n",
              "      <td>Image_1.jpg</td>\n",
              "      <td>/content/content/face_mask_detection/test/Imag...</td>\n",
              "      <td>NaN</td>\n",
              "    </tr>\n",
              "    <tr>\n",
              "      <th>1</th>\n",
              "      <td>Image_2.jpg</td>\n",
              "      <td>/content/content/face_mask_detection/test/Imag...</td>\n",
              "      <td>NaN</td>\n",
              "    </tr>\n",
              "  </tbody>\n",
              "</table>\n",
              "</div>"
            ],
            "text/plain": [
              "      filename                                          filepaths  label\n",
              "0  Image_1.jpg  /content/content/face_mask_detection/test/Imag...    NaN\n",
              "1  Image_2.jpg  /content/content/face_mask_detection/test/Imag...    NaN"
            ]
          },
          "metadata": {
            "tags": []
          },
          "execution_count": 42
        }
      ]
    },
    {
      "cell_type": "code",
      "metadata": {
        "id": "HtbSfGvNSy3O"
      },
      "source": [
        "test_data=[]\n",
        "for i in range(len(test)):\n",
        "  img_array=cv2.imread(test[\"filepaths\"][i])\n",
        "  #img_array = tf.cast(img_array, tf.float32)\n",
        "  #img_array = tf.image.convert_image_dtype(img_array, tf.float32)\n",
        "  test_data.append(img_array)"
      ],
      "execution_count": 43,
      "outputs": []
    },
    {
      "cell_type": "code",
      "metadata": {
        "id": "AoRnnk1rSzAR"
      },
      "source": [
        "for i in range(len(test_data)):\n",
        "  test_data[i]=cv2.resize(test_data[i],(128,128))"
      ],
      "execution_count": 45,
      "outputs": []
    },
    {
      "cell_type": "code",
      "metadata": {
        "id": "R76e9fTHTZui"
      },
      "source": [
        "preds=mbv2_model.predict(np.array(test_data))"
      ],
      "execution_count": 50,
      "outputs": []
    },
    {
      "cell_type": "code",
      "metadata": {
        "id": "vVtRQaxgTurt"
      },
      "source": [
        "predictions=[]\n",
        "for i in range(preds.shape[0]):\n",
        "  if preds[i]>=0.5:\n",
        "    predictions.append('with_mask')\n",
        "  else:\n",
        "    predictions.append('without_mask')"
      ],
      "execution_count": 54,
      "outputs": []
    },
    {
      "cell_type": "code",
      "metadata": {
        "id": "lpessUYTUYPn"
      },
      "source": [
        "res = pd.DataFrame(predictions) #preditcions are nothing but the final predictions of your model on input features of your new unseen test data\n",
        "#res.index = test.index # its important for comparison. Here \"test_new\" is your new test dataset\n",
        "res.columns = [\"prediction\"]\n",
        "res.to_csv(\"C:\\DPhi\\Face Mask Detection\\prediction_results.csv\")"
      ],
      "execution_count": 56,
      "outputs": []
    },
    {
      "cell_type": "code",
      "metadata": {
        "id": "QZpYxcNFVRX-",
        "outputId": "9e93507f-063b-4961-aa44-9811b85ac5c6",
        "colab": {
          "base_uri": "https://localhost:8080/"
        }
      },
      "source": [
        "from google.colab import  drive\n",
        "drive.mount('/drive')"
      ],
      "execution_count": 57,
      "outputs": [
        {
          "output_type": "stream",
          "text": [
            "Mounted at /drive\n"
          ],
          "name": "stdout"
        }
      ]
    },
    {
      "cell_type": "code",
      "metadata": {
        "id": "omWFGnAMWGfl"
      },
      "source": [
        "res.to_csv('/drive/My Drive/DPhi/Face_Mask_Detection_predictions/prediction_results.csv')"
      ],
      "execution_count": 58,
      "outputs": []
    }
  ]
}